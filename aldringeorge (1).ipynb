{
  "nbformat": 4,
  "nbformat_minor": 0,
  "metadata": {
    "colab": {
      "name": "aldringeorge.ipynb",
      "provenance": [],
      "collapsed_sections": []
    },
    "kernelspec": {
      "name": "python3",
      "display_name": "Python 3"
    },
    "language_info": {
      "name": "python"
    }
  },
  "cells": [
    {
      "cell_type": "code",
      "metadata": {
        "colab": {
          "base_uri": "https://localhost:8080/"
        },
        "id": "utwuRukKrnIF",
        "outputId": "82391926-f87b-411c-9fe4-59a322dd2da3"
      },
      "source": [
        "import requests\n",
        "\n",
        "from datetime import datetime\n",
        "\n",
        "api_key = '87d845b0b6cf29baa1a73cc34b067a95'\n",
        "location = input(\"Enter the city name: \")\n",
        "\n",
        "complete_api_link = \"https://api.openweathermap.org/data/2.5/weather?q=\"+location+\"&appid=\"+api_key\n",
        "api_link = requests.get(complete_api_link)\n",
        "api_data = api_link.json()\n",
        "\n",
        "#create variables to store and display data\n",
        "temp_city = ((api_data['main']['temp']) - 273.15)\n",
        "weather_desc = api_data['weather'][0]['description']\n",
        "hmdt = api_data['main']['humidity']\n",
        "wind_spd = api_data['wind']['speed']\n",
        "date_time = datetime.now().strftime(\"%d %b %Y | %I:%M:%S %p\")\n",
        "\n",
        "print (\"--------------------------------------\")\n",
        "print (\"Weather Stats for - {}  || {}\".format(location.upper(), date_time))\n",
        "print (\"--------------------------------------\")\n",
        "\n",
        "print (\"Current temperature is: {:.2f} deg C\".format(temp_city))\n",
        "print (\"Current weather desc  :\",weather_desc)\n",
        "print (\"Current Humidity      :\",hmdt, '%')\n",
        "print (\"Current wind speed    :\",wind_spd ,'kmph')\n",
        "\n",
        "\n",
        "#creating the text file\n",
        "fh=open('weather_text.txt','w+')#fh is File handler variable\n",
        "\n",
        "# writing in the text file\n",
        "fh.write(\"Weather Stats for - {}  || {}\".format(location.upper(), date_time))\n",
        "fh.write(\"\\n-------------------------------------------------------------\")\n",
        "fh.write(\"\\nCurrent temperature is: {:.2f} deg C\".format(temp_city))\n",
        "fh.write(\"\\nCurrent weather desc  : {}\".format(weather_desc))\n",
        "fh.write(\"\\nCurrent Humidity      : {} %\".format(hmdt))\n",
        "fh.write(\"\\nCurrent wind speed    : {}kmph\".format(wind_spd))\n",
        "\n",
        "fh.close()"
      ],
      "execution_count": 3,
      "outputs": [
        {
          "output_type": "stream",
          "text": [
            "Enter the city name: delhi\n",
            "--------------------------------------\n",
            "Weather Stats for - DELHI  || 23 Jun 2021 | 05:29:46 PM\n",
            "--------------------------------------\n",
            "Current temperature is: 34.05 deg C\n",
            "Current weather desc  : haze\n",
            "Current Humidity      : 43 %\n",
            "Current wind speed    : 5.14 kmph\n"
          ],
          "name": "stdout"
        }
      ]
    }
  ]
}